{
 "cells": [
  {
   "cell_type": "markdown",
   "metadata": {},
   "source": [
    "# Workshop Title: Analyzing NFL Data with Python\n",
    "\n",
    "## Introduction\n",
    "Welcome to the \"Analyzing NFL Data with Python\" workshop! In this workshop, you will learn how to retrieve, process, and analyze NFL play-by-play data for the 2023 season using Python. We will focus on passing and rushing plays, calculate Expected Points Added (EPA), and visualize the data to gain insights.\n",
    "\n",
    "## Getting Started\n",
    "Before we begin, make sure you have the required Python packages installed. You can install them using the following commands:"
   ]
  },
  {
   "cell_type": "code",
   "execution_count": 1,
   "metadata": {},
   "outputs": [
    {
     "name": "stdout",
     "output_type": "stream",
     "text": [
      "Collecting nfl_data_py\n",
      "  Downloading nfl_data_py-0.3.1.tar.gz (16 kB)\n",
      "  Preparing metadata (setup.py) ... \u001b[?25ldone\n",
      "\u001b[?25hRequirement already satisfied: pandas>1 in /Users/junikeda/anaconda3/lib/python3.11/site-packages (from nfl_data_py) (1.5.3)\n",
      "Requirement already satisfied: appdirs>1 in /Users/junikeda/anaconda3/lib/python3.11/site-packages (from nfl_data_py) (1.4.4)\n",
      "Collecting fastparquet>0.5 (from nfl_data_py)\n",
      "  Obtaining dependency information for fastparquet>0.5 from https://files.pythonhosted.org/packages/09/ea/6bf8718363e6fc8e204db6ff2bff5a18cc78859ad81a625745d68f5e2ed2/fastparquet-2023.10.1-cp311-cp311-macosx_11_0_arm64.whl.metadata\n",
      "  Downloading fastparquet-2023.10.1-cp311-cp311-macosx_11_0_arm64.whl.metadata (4.1 kB)\n",
      "Requirement already satisfied: python-snappy>0.5 in /Users/junikeda/anaconda3/lib/python3.11/site-packages (from nfl_data_py) (0.6.1)\n",
      "Requirement already satisfied: numpy>=1.20.3 in /Users/junikeda/anaconda3/lib/python3.11/site-packages (from fastparquet>0.5->nfl_data_py) (1.23.5)\n",
      "Collecting cramjam>=2.3 (from fastparquet>0.5->nfl_data_py)\n",
      "  Obtaining dependency information for cramjam>=2.3 from https://files.pythonhosted.org/packages/58/8a/7f8b283bb29713fb9c0d548b9d6cbe2f48da05084bdf721b7aa4a399b639/cramjam-2.7.0-cp311-cp311-macosx_10_9_x86_64.macosx_11_0_arm64.macosx_10_9_universal2.whl.metadata\n",
      "  Downloading cramjam-2.7.0-cp311-cp311-macosx_10_9_x86_64.macosx_11_0_arm64.macosx_10_9_universal2.whl.metadata (4.0 kB)\n",
      "Requirement already satisfied: fsspec in /Users/junikeda/anaconda3/lib/python3.11/site-packages (from fastparquet>0.5->nfl_data_py) (2023.4.0)\n",
      "Requirement already satisfied: packaging in /Users/junikeda/anaconda3/lib/python3.11/site-packages (from fastparquet>0.5->nfl_data_py) (23.0)\n",
      "Requirement already satisfied: python-dateutil>=2.8.1 in /Users/junikeda/anaconda3/lib/python3.11/site-packages (from pandas>1->nfl_data_py) (2.8.2)\n",
      "Requirement already satisfied: pytz>=2020.1 in /Users/junikeda/anaconda3/lib/python3.11/site-packages (from pandas>1->nfl_data_py) (2022.7)\n",
      "Requirement already satisfied: six>=1.5 in /Users/junikeda/anaconda3/lib/python3.11/site-packages (from python-dateutil>=2.8.1->pandas>1->nfl_data_py) (1.16.0)\n",
      "Downloading fastparquet-2023.10.1-cp311-cp311-macosx_11_0_arm64.whl (682 kB)\n",
      "\u001b[2K   \u001b[90m━━━━━━━━━━━━━━━━━━━━━━━━━━━━━━━━━━━━━━━\u001b[0m \u001b[32m682.2/682.2 kB\u001b[0m \u001b[31m320.0 kB/s\u001b[0m eta \u001b[36m0:00:00\u001b[0m00:01\u001b[0m00:01\u001b[0m\n",
      "\u001b[?25hDownloading cramjam-2.7.0-cp311-cp311-macosx_10_9_x86_64.macosx_11_0_arm64.macosx_10_9_universal2.whl (3.2 MB)\n",
      "\u001b[2K   \u001b[90m━━━━━━━━━━━━━━━━━━━━━━━━━━━━━━━━━━━━━━━━\u001b[0m \u001b[32m3.2/3.2 MB\u001b[0m \u001b[31m788.8 kB/s\u001b[0m eta \u001b[36m0:00:00\u001b[0m00:01\u001b[0m00:01\u001b[0m\n",
      "\u001b[?25hBuilding wheels for collected packages: nfl_data_py\n",
      "  Building wheel for nfl_data_py (setup.py) ... \u001b[?25ldone\n",
      "\u001b[?25h  Created wheel for nfl_data_py: filename=nfl_data_py-0.3.1-py3-none-any.whl size=13186 sha256=259397d5504ca4d970de44ab5b6abbbc1777a690ae55dc68a79e5ed24cef4863\n",
      "  Stored in directory: /Users/junikeda/Library/Caches/pip/wheels/86/83/5e/f27278d850a64751366334d5657929b5775ca2d6fff0a39729\n",
      "Successfully built nfl_data_py\n",
      "Installing collected packages: cramjam, fastparquet, nfl_data_py\n",
      "Successfully installed cramjam-2.7.0 fastparquet-2023.10.1 nfl_data_py-0.3.1\n"
     ]
    }
   ],
   "source": [
    "!pip install nfl_data_py"
   ]
  },
  {
   "cell_type": "markdown",
   "metadata": {},
   "source": [
    "Now that you have installed the necessary packages, let's import them:"
   ]
  },
  {
   "cell_type": "code",
   "execution_count": 2,
   "metadata": {},
   "outputs": [],
   "source": [
    "# Dependencies\n",
    "import pandas as pd\n",
    "import nfl_data_py as nfl\n",
    "import matplotlib.pyplot as plt\n",
    "from matplotlib import style\n",
    "from matplotlib.offsetbox import AnnotationBbox, OffsetImage\n",
    "import os\n",
    "import urllib.request"
   ]
  },
  {
   "cell_type": "markdown",
   "metadata": {},
   "source": [
    "## Part 1: Retrieving NFL Play-By-Play Data\n",
    "We will start by retrieving the NFL play-by-play data for the 2023 season:"
   ]
  },
  {
   "cell_type": "code",
   "execution_count": 4,
   "metadata": {},
   "outputs": [
    {
     "name": "stdout",
     "output_type": "stream",
     "text": [
      "2023 done.\n",
      "Downcasting floats.\n"
     ]
    }
   ],
   "source": [
    "# define year variable for 2023 season\n",
    "year = 2023\n",
    "# import data for this year\n",
    "pbp = nfl.import_pbp_data([year])"
   ]
  },
  {
   "cell_type": "markdown",
   "metadata": {},
   "source": [
    "We can take a look at the size of the dataset and a preview of it's structure:"
   ]
  },
  {
   "cell_type": "code",
   "execution_count": 5,
   "metadata": {},
   "outputs": [
    {
     "data": {
      "text/plain": [
       "(23846, 384)"
      ]
     },
     "execution_count": 5,
     "metadata": {},
     "output_type": "execute_result"
    }
   ],
   "source": [
    "# checking the size of the data\n",
    "pbp.shape"
   ]
  },
  {
   "cell_type": "code",
   "execution_count": null,
   "metadata": {},
   "outputs": [],
   "source": [
    "# preview of data\n",
    "pbp.head()"
   ]
  },
  {
   "cell_type": "markdown",
   "metadata": {},
   "source": [
    "There's too many columns here to display, we can list them out by using:"
   ]
  },
  {
   "cell_type": "code",
   "execution_count": null,
   "metadata": {},
   "outputs": [],
   "source": [
    "# Remove max_columns limits of pandas\n",
    "pd.set_option('display.max_columns', None)\n",
    "pbp.head()"
   ]
  },
  {
   "cell_type": "code",
   "execution_count": null,
   "metadata": {},
   "outputs": [],
   "source": [
    "# Or directly print list of columns\n",
    "print(pbp.columns.tolist())"
   ]
  },
  {
   "cell_type": "markdown",
   "metadata": {},
   "source": [
    "## Part 2: Processing and Calculating EPA\n",
    "\n",
    "**Expected Points Added (EPA) calculates how well a team performs relative to expectation on a particular play. This advanced metric is calculated by the expected points gained or lost based on the down, distance, and field position at the start of a play compared to the end of the play.**\n",
    "\n",
    "For example, if a team starts a drive on the 50-yard line, its expected points to start the drive would be about 2.5. If the team ends the drive with a field goal, thus gaining 3 points, its EPA for that drive would be found by subtracting its expected points from how many points it actually gained, 3 – 2.5 = **0.5 EPA**. However if the team scores a 50 yard touchdown, the EPA of the play would be 7 - 2.5 = **4.5 EPA**.\n",
    "\n",
    "In this section, we'll filter the data for passing and rushing plays for each team, calculate the average EPA for both, and visualize the results.\n",
    "\n",
    "First, we filter the data for passing and rushing plays:"
   ]
  },
  {
   "cell_type": "code",
   "execution_count": null,
   "metadata": {},
   "outputs": [],
   "source": [
    "# Filter down for passing and rusing plays\n",
    "\n",
    "# Remove the rows that contains NULL values"
   ]
  },
  {
   "cell_type": "markdown",
   "metadata": {},
   "source": [
    "Next, we calculate the average EPA for passing plays:"
   ]
  },
  {
   "cell_type": "code",
   "execution_count": null,
   "metadata": {},
   "outputs": [],
   "source": [
    "# Select only passing plays\n",
    "\n",
    "# Group the plays by the offensive team running the play\n",
    "\n",
    "# Calculate the average passing epa for each team"
   ]
  },
  {
   "cell_type": "markdown",
   "metadata": {},
   "source": [
    "Cleaning up the table and sorting the values by highest passing epa"
   ]
  },
  {
   "cell_type": "code",
   "execution_count": null,
   "metadata": {},
   "outputs": [],
   "source": [
    "# Rename and sort list"
   ]
  },
  {
   "cell_type": "markdown",
   "metadata": {},
   "source": [
    "Now that we've got the stats for passing epa for each team, let's find the rushing epa for each team:"
   ]
  },
  {
   "cell_type": "code",
   "execution_count": null,
   "metadata": {},
   "outputs": [],
   "source": [
    "# Isolate rushing plays\n",
    "\n",
    "# Group them by team\n",
    "\n",
    "# Calculate the average\n",
    "\n",
    "# Rename the column"
   ]
  },
  {
   "cell_type": "markdown",
   "metadata": {},
   "source": [
    "Now that we have both the rushing and passing epa for each team, we can combine the data and download team logos:"
   ]
  },
  {
   "cell_type": "code",
   "execution_count": null,
   "metadata": {},
   "outputs": [],
   "source": [
    "# Combine two lists"
   ]
  },
  {
   "cell_type": "code",
   "execution_count": null,
   "metadata": {},
   "outputs": [],
   "source": [
    "# Fetch Team Logos"
   ]
  },
  {
   "cell_type": "code",
   "execution_count": null,
   "metadata": {},
   "outputs": [],
   "source": [
    "# Download team logos\n",
    "logo_paths = []\n",
    "team_abbr = []\n",
    "if not os.path.exists(\"logos\"):\n",
    "    os.makedirs(\"logos\")\n",
    "\n",
    "for team in range(len(logos)):\n",
    "    urllib.request.urlretrieve(logos['team_logo_espn'][team], f\"logos/{logos['team_abbr'][team]}.tif\")\n",
    "    logo_paths.append(f\"logos/{logos['team_abbr'][team]}.tif\")\n",
    "    team_abbr.append(logos['team_abbr'][team])\n",
    "\n",
    "# Create table for team logo and it's file path\n",
    "\n",
    "# Combine logo paths to epa data\n"
   ]
  },
  {
   "cell_type": "markdown",
   "metadata": {},
   "source": [
    "## Part 3: Visualizing the Data\n",
    "In this part, we'll create a visualization of the data to compare the EPA for passing and rushing plays. We'll use team logos for the plot.\n",
    "\n",
    "Let's start by defining the chart"
   ]
  },
  {
   "cell_type": "code",
   "execution_count": 67,
   "metadata": {},
   "outputs": [],
   "source": [
    "# Define plot size and autolayout\n",
    "\n",
    "\n",
    "# Set the axes to each epa type\n"
   ]
  },
  {
   "cell_type": "markdown",
   "metadata": {},
   "source": [
    "Let's define a function to load the image into the chart:"
   ]
  },
  {
   "cell_type": "code",
   "execution_count": 68,
   "metadata": {},
   "outputs": [],
   "source": [
    "# Load image into the chart\n",
    "def getImage(path):\n",
    "    return OffsetImage(plt.imread(path, format=\"tif\"), zoom=.1)"
   ]
  },
  {
   "cell_type": "markdown",
   "metadata": {},
   "source": [
    "Putting everything together, we can start adding the points to the chart:"
   ]
  },
  {
   "cell_type": "code",
   "execution_count": null,
   "metadata": {},
   "outputs": [],
   "source": [
    "fig, ax = plt.subplots()\n",
    "\n",
    "# Add points using logo\n",
    "for x0, y0, path in zip(x, y, paths):\n",
    "   ab = AnnotationBbox(getImage(path), (x0, y0), frameon=False)\n",
    "   ax.add_artist(ab)\n",
    "\n",
    "# Move left y-axis and bottom x-axis to centre, passing through (0,0)\n",
    "\n",
    "# Eliminate upper and right axes\n",
    "\n",
    "# Label the chart\n"
   ]
  },
  {
   "cell_type": "markdown",
   "metadata": {},
   "source": [
    "## Additional Exploration\n",
    "\n",
    "The nfl_play_by_play library has more advanced data and metrics such as the Next Gen Stats data, we can access this by:"
   ]
  },
  {
   "cell_type": "code",
   "execution_count": 70,
   "metadata": {},
   "outputs": [],
   "source": [
    "df = nfl.import_ngs_data(stat_type='passing')"
   ]
  },
  {
   "cell_type": "code",
   "execution_count": null,
   "metadata": {},
   "outputs": [],
   "source": [
    "df.columns"
   ]
  },
  {
   "cell_type": "code",
   "execution_count": null,
   "metadata": {},
   "outputs": [],
   "source": [
    "# Filter down to week = 0, full season data for the year(s) specified\n",
    "df = df[df['week'] == 0]\n",
    "df = df[df['season'] == year]\n",
    "df = df.reset_index()\n",
    "df"
   ]
  },
  {
   "cell_type": "code",
   "execution_count": null,
   "metadata": {},
   "outputs": [],
   "source": [
    "# Calculate the average time to throw and completion % above expectation\n",
    "average_ttt = df['avg_time_to_throw'].mean()\n",
    "average_cpae = df['completion_percentage_above_expectation'].mean()\n",
    "\n",
    "average_cpae"
   ]
  },
  {
   "cell_type": "code",
   "execution_count": null,
   "metadata": {},
   "outputs": [],
   "source": [
    "# Visualize the data\n",
    "\n",
    "# Define plot size and autolayout\n",
    "plt.rcParams[\"figure.figsize\"] = [20, 14]\n",
    "plt.rcParams[\"figure.autolayout\"] = True\n",
    "\n",
    "\n",
    "# Initialize empty lists for x,y \n",
    "x = []\n",
    "y = []\n",
    "\n",
    "# Define the x and y variables\n",
    "for qb in df.index:\n",
    "    x.append(df['avg_time_to_throw'][qb] - average_ttt)\n",
    "    y.append(df['completion_percentage_above_expectation'][qb] - average_cpae)\n",
    "    \n",
    "# Put x,y into dictionary\n",
    "xy = pd.DataFrame({'x' : x, 'y' : y})\n",
    "\n",
    "# Define the plot\n",
    "fig, ax = plt.subplots()\n",
    "\n",
    "ax.scatter(xy['x'], xy['y'], s=800, c='blue')\n",
    "\n",
    "# Move left y-axis and bottom x-axis to centre, passing through (0,0)\n",
    "ax.spines['left'].set_position('center')\n",
    "ax.spines['bottom'].set_position('center')\n",
    "\n",
    "# Eliminate upper and right axes\n",
    "ax.spines['right'].set_color('none')\n",
    "ax.spines['top'].set_color('none')\n",
    "\n",
    "# Set x and y axis limits\n",
    "plt.xlim((-0.5,0.5))\n",
    "plt.ylim((-8,8))\n",
    "\n",
    "\n",
    "# Annotate with QB name and year\n",
    "for name in xy.index:\n",
    "    plt.annotate(f\"{df['player_display_name'][name]}\",\n",
    "                 (xy['x'][name] + 0.015,\n",
    "                  xy['y'][name]),\n",
    "                  fontsize=15)\n",
    "\n",
    "# Annotate Quadrants\n",
    "plt.annotate('Lots time to throw,\\nreceivers making great catches', (0.3,6.5), fontsize=18)\n",
    "plt.annotate('Limited time to throw,\\nreceivers making great catches', (-0.45,6.5), fontsize=18)\n",
    "plt.annotate('Limited time to throw,\\nreceivers not making great catches', (-0.45,-6.5), fontsize=18)\n",
    "plt.annotate('Lots of time to throw,\\nreceivers not making great catches', (0.3,-6.5), fontsize=18)\n",
    "    \n",
    "\n",
    "# Add a title\n",
    "plt.title(f'QB Average Time to Throw (s) vs. Completion % Above/Below Expectation, 2023', fontsize=20)\n",
    "\n",
    "    \n",
    "# Style the chart\n",
    "plt.show()"
   ]
  },
  {
   "cell_type": "markdown",
   "metadata": {},
   "source": [
    "Sources: https://www.youtube.com/watch?v=auyOjPoURRg&ab_channel=MFANS, https://www.youtube.com/watch?v=wWgGgmqijNU&ab_channel=TimBryan\n"
   ]
  }
 ],
 "metadata": {
  "kernelspec": {
   "display_name": "Python 3",
   "language": "python",
   "name": "python3"
  },
  "language_info": {
   "codemirror_mode": {
    "name": "ipython",
    "version": 3
   },
   "file_extension": ".py",
   "mimetype": "text/x-python",
   "name": "python",
   "nbconvert_exporter": "python",
   "pygments_lexer": "ipython3",
   "version": "3.11.4"
  }
 },
 "nbformat": 4,
 "nbformat_minor": 2
}
