{
 "cells": [
  {
   "cell_type": "markdown",
   "metadata": {},
   "source": [
    "# 1. Basic Queries"
   ]
  },
  {
   "cell_type": "code",
   "execution_count": 3,
   "metadata": {},
   "outputs": [],
   "source": [
    "from astroquery.gaia import Gaia"
   ]
  },
  {
   "cell_type": "markdown",
   "metadata": {},
   "source": [
    "## Get metadata of tables in Gaia"
   ]
  },
  {
   "cell_type": "code",
   "execution_count": 4,
   "metadata": {},
   "outputs": [
    {
     "name": "stdout",
     "output_type": "stream",
     "text": [
      "INFO: Retrieving tables... [astroquery.utils.tap.core]\n",
      "INFO: Parsing tables... [astroquery.utils.tap.core]\n",
      "INFO: Done. [astroquery.utils.tap.core]\n"
     ]
    }
   ],
   "source": [
    "tables = Gaia.load_tables(only_names=True)"
   ]
  },
  {
   "cell_type": "code",
   "execution_count": 5,
   "metadata": {},
   "outputs": [
    {
     "name": "stdout",
     "output_type": "stream",
     "text": [
      "external.apassdr9\n",
      "external.catwise2020\n",
      "external.gaiadr2_astrophysical_parameters\n",
      "external.gaiadr2_geometric_distance\n",
      "external.gaiaedr3_distance\n",
      "external.gaiaedr3_gcns_main_1\n",
      "external.gaiaedr3_gcns_rejected_1\n",
      "external.gaiaedr3_spurious\n",
      "external.galex_ais\n",
      "external.ravedr5_com\n",
      "external.ravedr5_dr5\n",
      "external.ravedr5_gra\n",
      "external.ravedr5_on\n",
      "external.ravedr6\n",
      "external.sdssdr13_photoprimary\n",
      "external.skymapperdr1_master\n",
      "external.skymapperdr2_master\n",
      "external.tmass_xsc\n",
      "gaiadr1.aux_qso_icrf2_match\n",
      "gaiadr1.ext_phot_zero_point\n",
      "gaiadr1.allwise_best_neighbour\n",
      "gaiadr1.allwise_neighbourhood\n",
      "gaiadr1.gsc23_best_neighbour\n",
      "gaiadr1.gsc23_neighbourhood\n",
      "gaiadr1.ppmxl_best_neighbour\n",
      "gaiadr1.ppmxl_neighbourhood\n",
      "gaiadr1.sdss_dr9_best_neighbour\n",
      "gaiadr1.sdss_dr9_neighbourhood\n",
      "gaiadr1.tmass_best_neighbour\n",
      "gaiadr1.tmass_neighbourhood\n",
      "gaiadr1.ucac4_best_neighbour\n",
      "gaiadr1.ucac4_neighbourhood\n",
      "gaiadr1.urat1_best_neighbour\n",
      "gaiadr1.urat1_neighbourhood\n",
      "gaiadr1.cepheid\n",
      "gaiadr1.phot_variable_time_series_gfov\n",
      "gaiadr1.phot_variable_time_series_gfov_statistical_parameters\n",
      "gaiadr1.rrlyrae\n",
      "gaiadr1.variable_summary\n",
      "gaiadr1.allwise_original_valid\n",
      "gaiadr1.gsc23_original_valid\n",
      "gaiadr1.ppmxl_original_valid\n",
      "gaiadr1.sdssdr9_original_valid\n",
      "gaiadr1.tmass_original_valid\n",
      "gaiadr1.ucac4_original_valid\n",
      "gaiadr1.urat1_original_valid\n",
      "gaiadr1.gaia_source\n",
      "gaiadr1.tgas_source\n",
      "gaiadr2.aux_allwise_agn_gdr2_cross_id\n",
      "gaiadr2.aux_iers_gdr2_cross_id\n",
      "gaiadr2.aux_sso_orbit_residuals\n",
      "gaiadr2.aux_sso_orbits\n",
      "gaiadr2.dr1_neighbourhood\n",
      "gaiadr2.allwise_best_neighbour\n",
      "gaiadr2.allwise_neighbourhood\n",
      "gaiadr2.apassdr9_best_neighbour\n",
      "gaiadr2.apassdr9_neighbourhood\n",
      "gaiadr2.gsc23_best_neighbour\n",
      "gaiadr2.gsc23_neighbourhood\n",
      "gaiadr2.hipparcos2_best_neighbour\n",
      "gaiadr2.hipparcos2_neighbourhood\n",
      "gaiadr2.panstarrs1_best_neighbour\n",
      "gaiadr2.panstarrs1_neighbourhood\n",
      "gaiadr2.ppmxl_best_neighbour\n",
      "gaiadr2.ppmxl_neighbourhood\n",
      "gaiadr2.ravedr5_best_neighbour\n",
      "gaiadr2.ravedr5_neighbourhood\n",
      "gaiadr2.sdssdr9_best_neighbour\n",
      "gaiadr2.sdssdr9_neighbourhood\n",
      "gaiadr2.tmass_best_neighbour\n",
      "gaiadr2.tmass_neighbourhood\n",
      "gaiadr2.tycho2_best_neighbour\n",
      "gaiadr2.tycho2_neighbourhood\n",
      "gaiadr2.urat1_best_neighbour\n",
      "gaiadr2.urat1_neighbourhood\n",
      "gaiadr2.sso_observation\n",
      "gaiadr2.sso_source\n",
      "gaiadr2.vari_cepheid\n",
      "gaiadr2.vari_classifier_class_definition\n",
      "gaiadr2.vari_classifier_definition\n",
      "gaiadr2.vari_classifier_result\n",
      "gaiadr2.vari_long_period_variable\n",
      "gaiadr2.vari_rotation_modulation\n",
      "gaiadr2.vari_rrlyrae\n",
      "gaiadr2.vari_short_timescale\n",
      "gaiadr2.vari_time_series_statistics\n",
      "gaiadr2.panstarrs1_original_valid\n",
      "gaiadr2.gaia_source\n",
      "gaiadr2.ruwe\n",
      "gaiadr3.gaia_source\n",
      "gaiadr3.gaia_source_lite\n",
      "gaiadr3.astrophysical_parameters\n",
      "gaiadr3.astrophysical_parameters_supp\n",
      "gaiadr3.oa_neuron_information\n",
      "gaiadr3.oa_neuron_xp_spectra\n",
      "gaiadr3.total_galactic_extinction_map\n",
      "gaiadr3.total_galactic_extinction_map_opt\n",
      "gaiadr3.commanded_scan_law\n",
      "gaiadr3.allwise_best_neighbour\n",
      "gaiadr3.allwise_neighbourhood\n",
      "gaiadr3.apassdr9_best_neighbour\n",
      "gaiadr3.apassdr9_join\n",
      "gaiadr3.apassdr9_neighbourhood\n",
      "gaiadr3.dr2_neighbourhood\n",
      "gaiadr3.gsc23_best_neighbour\n",
      "gaiadr3.gsc23_join\n",
      "gaiadr3.gsc23_neighbourhood\n",
      "gaiadr3.hipparcos2_best_neighbour\n",
      "gaiadr3.hipparcos2_neighbourhood\n",
      "gaiadr3.panstarrs1_best_neighbour\n",
      "gaiadr3.panstarrs1_join\n",
      "gaiadr3.panstarrs1_neighbourhood\n",
      "gaiadr3.ravedr5_best_neighbour\n",
      "gaiadr3.ravedr5_join\n",
      "gaiadr3.ravedr5_neighbourhood\n",
      "gaiadr3.ravedr6_best_neighbour\n",
      "gaiadr3.ravedr6_join\n",
      "gaiadr3.ravedr6_neighbourhood\n",
      "gaiadr3.sdssdr13_best_neighbour\n",
      "gaiadr3.sdssdr13_join\n",
      "gaiadr3.sdssdr13_neighbourhood\n",
      "gaiadr3.skymapperdr2_best_neighbour\n",
      "gaiadr3.skymapperdr2_join\n",
      "gaiadr3.skymapperdr2_neighbourhood\n",
      "gaiadr3.tmass_psc_xsc_best_neighbour\n",
      "gaiadr3.tmass_psc_xsc_join\n",
      "gaiadr3.tmass_psc_xsc_neighbourhood\n",
      "gaiadr3.tycho2tdsc_merge_best_neighbour\n",
      "gaiadr3.tycho2tdsc_merge_neighbourhood\n",
      "gaiadr3.urat1_best_neighbour\n",
      "gaiadr3.urat1_neighbourhood\n",
      "gaiadr3.galaxy_candidates\n",
      "gaiadr3.galaxy_catalogue_name\n",
      "gaiadr3.qso_candidates\n",
      "gaiadr3.qso_catalogue_name\n",
      "gaiadr3.nss_acceleration_astro\n",
      "gaiadr3.nss_non_linear_spectro\n",
      "gaiadr3.nss_two_body_orbit\n",
      "gaiadr3.nss_vim_fl\n",
      "gaiadr3.binary_masses\n",
      "gaiadr3.chemical_cartography\n",
      "gaiadr3.gold_sample_carbon_stars\n",
      "gaiadr3.gold_sample_fgkm_stars\n",
      "gaiadr3.gold_sample_oba_stars\n",
      "gaiadr3.gold_sample_solar_analogues\n",
      "gaiadr3.gold_sample_spss\n",
      "gaiadr3.gold_sample_ucd\n",
      "gaiadr3.sso_orbits\n",
      "gaiadr3.synthetic_photometry_gspc\n",
      "gaiadr3.vari_spurious_signals\n",
      "gaiadr3.agn_cross_id\n",
      "gaiadr3.frame_rotator_source\n",
      "gaiadr3.gaia_crf3_xm\n",
      "gaiadr3.alerts_mixedin_sourceids\n",
      "gaiadr3.science_alerts\n",
      "gaiadr3.gaia_source_simulation\n",
      "gaiadr3.gaia_universe_model\n",
      "gaiadr3.sso_observation\n",
      "gaiadr3.sso_reflectance_spectrum\n",
      "gaiadr3.sso_source\n",
      "gaiadr3.xp_summary\n",
      "gaiadr3.vari_agn\n",
      "gaiadr3.vari_cepheid\n",
      "gaiadr3.vari_classifier_class_definition\n",
      "gaiadr3.vari_classifier_definition\n",
      "gaiadr3.vari_classifier_result\n",
      "gaiadr3.vari_compact_companion\n",
      "gaiadr3.vari_eclipsing_binary\n",
      "gaiadr3.vari_epoch_radial_velocity\n",
      "gaiadr3.vari_long_period_variable\n",
      "gaiadr3.vari_microlensing\n",
      "gaiadr3.vari_ms_oscillator\n",
      "gaiadr3.vari_planetary_transit\n",
      "gaiadr3.vari_planetary_transit_13june2022\n",
      "gaiadr3.vari_rad_vel_statistics\n",
      "gaiadr3.vari_rotation_modulation\n",
      "gaiadr3.vari_rrlyrae\n",
      "gaiadr3.vari_short_timescale\n",
      "gaiadr3.vari_summary\n",
      "gaiadr3.tycho2tdsc_merge\n",
      "gaiaedr3.gaia_source\n",
      "gaiaedr3.agn_cross_id\n",
      "gaiaedr3.commanded_scan_law\n",
      "gaiaedr3.dr2_neighbourhood\n",
      "gaiaedr3.frame_rotator_source\n",
      "gaiaedr3.allwise_best_neighbour\n",
      "gaiaedr3.allwise_neighbourhood\n",
      "gaiaedr3.apassdr9_best_neighbour\n",
      "gaiaedr3.apassdr9_join\n",
      "gaiaedr3.apassdr9_neighbourhood\n",
      "gaiaedr3.gsc23_best_neighbour\n",
      "gaiaedr3.gsc23_join\n",
      "gaiaedr3.gsc23_neighbourhood\n",
      "gaiaedr3.hipparcos2_best_neighbour\n",
      "gaiaedr3.hipparcos2_neighbourhood\n",
      "gaiaedr3.panstarrs1_best_neighbour\n",
      "gaiaedr3.panstarrs1_join\n",
      "gaiaedr3.panstarrs1_neighbourhood\n",
      "gaiaedr3.ravedr5_best_neighbour\n",
      "gaiaedr3.ravedr5_join\n",
      "gaiaedr3.ravedr5_neighbourhood\n",
      "gaiaedr3.sdssdr13_best_neighbour\n",
      "gaiaedr3.sdssdr13_join\n",
      "gaiaedr3.sdssdr13_neighbourhood\n",
      "gaiaedr3.skymapperdr2_best_neighbour\n",
      "gaiaedr3.skymapperdr2_join\n",
      "gaiaedr3.skymapperdr2_neighbourhood\n",
      "gaiaedr3.tmass_psc_xsc_best_neighbour\n",
      "gaiaedr3.tmass_psc_xsc_join\n",
      "gaiaedr3.tmass_psc_xsc_neighbourhood\n",
      "gaiaedr3.tycho2tdsc_merge_best_neighbour\n",
      "gaiaedr3.tycho2tdsc_merge_neighbourhood\n",
      "gaiaedr3.urat1_best_neighbour\n",
      "gaiaedr3.urat1_neighbourhood\n",
      "gaiaedr3.gaia_source_simulation\n",
      "gaiaedr3.gaia_universe_model\n",
      "gaiaedr3.tycho2tdsc_merge\n",
      "gaiafpr.crowded_field_source\n",
      "gaiafpr.lens_candidates\n",
      "gaiafpr.lens_catalogue_name\n",
      "gaiafpr.lens_observation\n",
      "gaiafpr.lens_outlier\n",
      "gaiafpr.sso_observation\n",
      "gaiafpr.sso_source\n",
      "gaiafpr.interstellar_medium_params\n",
      "gaiafpr.interstellar_medium_spectra\n",
      "gaiafpr.vari_epoch_radial_velocity\n",
      "gaiafpr.vari_long_period_variable\n",
      "gaiafpr.vari_rad_vel_statistics\n",
      "public.hipparcos\n",
      "public.hipparcos_newreduction\n",
      "public.hubble_sc\n",
      "public.igsl_source\n",
      "public.igsl_source_catalog_ids\n",
      "public.tycho2\n",
      "public.dual\n",
      "tap_config.coord_sys\n",
      "tap_config.properties\n",
      "tap_schema.columns\n",
      "tap_schema.key_columns\n",
      "tap_schema.keys\n",
      "tap_schema.schemas\n",
      "tap_schema.tables\n"
     ]
    }
   ],
   "source": [
    "for table in tables:\n",
    "    print(table.name)"
   ]
  },
  {
   "cell_type": "markdown",
   "metadata": {},
   "source": [
    "## Gaia Data from Release 2"
   ]
  },
  {
   "cell_type": "code",
   "execution_count": 6,
   "metadata": {},
   "outputs": [
    {
     "name": "stdout",
     "output_type": "stream",
     "text": [
      "Retrieving table 'gaiadr2.gaia_source'\n"
     ]
    }
   ],
   "source": [
    "table_metadata = Gaia.load_table('gaiadr2.gaia_source')"
   ]
  },
  {
   "cell_type": "code",
   "execution_count": 7,
   "metadata": {},
   "outputs": [
    {
     "name": "stdout",
     "output_type": "stream",
     "text": [
      "TAP Table name: gaiadr2.gaiadr2.gaia_source\n",
      "Description: This table has an entry for every Gaia observed source as listed in the\n",
      "Main Database accumulating catalogue version from which the catalogue\n",
      "release has been generated. It contains the basic source parameters,\n",
      "that is only final data (no epoch data) and no spectra (neither final\n",
      "nor epoch).\n",
      "Num. columns: 96\n"
     ]
    }
   ],
   "source": [
    "print(table_metadata)"
   ]
  },
  {
   "cell_type": "code",
   "execution_count": 8,
   "metadata": {},
   "outputs": [
    {
     "name": "stdout",
     "output_type": "stream",
     "text": [
      "solution_id\n",
      "designation\n",
      "source_id\n",
      "random_index\n",
      "ref_epoch\n",
      "ra\n",
      "ra_error\n",
      "dec\n",
      "dec_error\n",
      "parallax\n",
      "parallax_error\n",
      "parallax_over_error\n",
      "pmra\n",
      "pmra_error\n",
      "pmdec\n",
      "pmdec_error\n",
      "ra_dec_corr\n",
      "ra_parallax_corr\n",
      "ra_pmra_corr\n",
      "ra_pmdec_corr\n",
      "dec_parallax_corr\n",
      "dec_pmra_corr\n",
      "dec_pmdec_corr\n",
      "parallax_pmra_corr\n",
      "parallax_pmdec_corr\n",
      "pmra_pmdec_corr\n",
      "astrometric_n_obs_al\n",
      "astrometric_n_obs_ac\n",
      "astrometric_n_good_obs_al\n",
      "astrometric_n_bad_obs_al\n",
      "astrometric_gof_al\n",
      "astrometric_chi2_al\n",
      "astrometric_excess_noise\n",
      "astrometric_excess_noise_sig\n",
      "astrometric_params_solved\n",
      "astrometric_primary_flag\n",
      "astrometric_weight_al\n",
      "astrometric_pseudo_colour\n",
      "astrometric_pseudo_colour_error\n",
      "mean_varpi_factor_al\n",
      "astrometric_matched_observations\n",
      "visibility_periods_used\n",
      "astrometric_sigma5d_max\n",
      "frame_rotator_object_type\n",
      "matched_observations\n",
      "duplicated_source\n",
      "phot_g_n_obs\n",
      "phot_g_mean_flux\n",
      "phot_g_mean_flux_error\n",
      "phot_g_mean_flux_over_error\n",
      "phot_g_mean_mag\n",
      "phot_bp_n_obs\n",
      "phot_bp_mean_flux\n",
      "phot_bp_mean_flux_error\n",
      "phot_bp_mean_flux_over_error\n",
      "phot_bp_mean_mag\n",
      "phot_rp_n_obs\n",
      "phot_rp_mean_flux\n",
      "phot_rp_mean_flux_error\n",
      "phot_rp_mean_flux_over_error\n",
      "phot_rp_mean_mag\n",
      "phot_bp_rp_excess_factor\n",
      "phot_proc_mode\n",
      "bp_rp\n",
      "bp_g\n",
      "g_rp\n",
      "radial_velocity\n",
      "radial_velocity_error\n",
      "rv_nb_transits\n",
      "rv_template_teff\n",
      "rv_template_logg\n",
      "rv_template_fe_h\n",
      "phot_variable_flag\n",
      "l\n",
      "b\n",
      "ecl_lon\n",
      "ecl_lat\n",
      "priam_flags\n",
      "teff_val\n",
      "teff_percentile_lower\n",
      "teff_percentile_upper\n",
      "a_g_val\n",
      "a_g_percentile_lower\n",
      "a_g_percentile_upper\n",
      "e_bp_min_rp_val\n",
      "e_bp_min_rp_percentile_lower\n",
      "e_bp_min_rp_percentile_upper\n",
      "flame_flags\n",
      "radius_val\n",
      "radius_percentile_lower\n",
      "radius_percentile_upper\n",
      "lum_val\n",
      "lum_percentile_lower\n",
      "lum_percentile_upper\n",
      "datalink_url\n",
      "epoch_photometry_url\n"
     ]
    }
   ],
   "source": [
    "for column in table_metadata.columns:\n",
    "    print(column.name)"
   ]
  },
  {
   "cell_type": "markdown",
   "metadata": {},
   "source": [
    "### Exercise: Photometry Data"
   ]
  },
  {
   "cell_type": "code",
   "execution_count": 9,
   "metadata": {},
   "outputs": [
    {
     "name": "stdout",
     "output_type": "stream",
     "text": [
      "Retrieving table 'gaiadr2.panstarrs1_original_valid'\n"
     ]
    }
   ],
   "source": [
    "table_metadata = Gaia.load_table('gaiadr2.panstarrs1_original_valid')"
   ]
  },
  {
   "cell_type": "code",
   "execution_count": 10,
   "metadata": {},
   "outputs": [
    {
     "name": "stdout",
     "output_type": "stream",
     "text": [
      "TAP Table name: gaiadr2.gaiadr2.panstarrs1_original_valid\n",
      "Description: The Panoramic Survey Telescope and Rapid Response System (Pan-STARRS) is\n",
      "a system for wide-field astronomical imaging developed and operated by\n",
      "the Institute for Astronomy at the University of Hawaii. Pan-STARRS1\n",
      "(PS1) is the first part of Pan-STARRS to be completed and is the basis\n",
      "for Data Release 1 (DR1). The PS1 survey used a 1.8 meter telescope and\n",
      "its 1.4 Gigapixel camera to image the sky in five broadband filters (g,\n",
      "r, i, z, y).\n",
      "\n",
      "The current table contains a filtered subsample of the 10 723 304 629\n",
      "entries listed in the original ObjectThin table.\n",
      "We used only ObjectThin and MeanObject tables to extract\n",
      "panstarrs1OriginalValid table, this means that objects detected only in\n",
      "stack images are not included here. The main reason for us to avoid the\n",
      "use of objects detected in stack images is that their astrometry is not\n",
      "as good as the mean objects astrometry: “The stack positions (raStack,\n",
      "decStack) have considerably larger systematic astrometric errors than\n",
      "the mean epoch positions (raMean, decMean).” The astrometry for the\n",
      "MeanObject positions uses Gaia DR1 as a reference catalog, while the\n",
      "stack positions use 2MASS as a reference catalog.\n",
      "\n",
      "In details, we filtered out all objects where:\n",
      "\n",
      "-   nDetections = 1\n",
      "\n",
      "-   no good quality data in Pan-STARRS, objInfoFlag 33554432 not set\n",
      "\n",
      "-   mean astrometry could not be measured, objInfoFlag 524288 set\n",
      "\n",
      "-   stack position used for mean astrometry, objInfoFlag 1048576 set\n",
      "\n",
      "-   error on all magnitudes equal to 0 or to -999;\n",
      "\n",
      "-   all magnitudes set to -999;\n",
      "\n",
      "-   error on RA or DEC greater than 1 arcsec.\n",
      "\n",
      "The number of objects in panstarrs1OriginalValid is 2 264 263 282.\n",
      "\n",
      "The panstarrs1OriginalValid table contains only a subset of the columns\n",
      "available in the combined ObjectThin and MeanObject tables. A\n",
      "description of the original ObjectThin and MeanObjects tables can be\n",
      "found at:\n",
      "https://outerspace.stsci.edu/display/PANSTARRS/PS1+Database+object+and+detection+tables\n",
      "\n",
      "Download:\n",
      "http://mastweb.stsci.edu/ps1casjobs/home.aspx\n",
      "Documentation:\n",
      "https://outerspace.stsci.edu/display/PANSTARRS\n",
      "http://pswww.ifa.hawaii.edu/pswww/\n",
      "References:\n",
      "The Pan-STARRS1 Surveys, Chambers, K.C., et al. 2016, arXiv:1612.05560\n",
      "Pan-STARRS Data Processing System, Magnier, E. A., et al. 2016,\n",
      "arXiv:1612.05240\n",
      "Pan-STARRS Pixel Processing: Detrending, Warping, Stacking, Waters, C.\n",
      "Z., et al. 2016, arXiv:1612.05245\n",
      "Pan-STARRS Pixel Analysis: Source Detection and Characterization,\n",
      "Magnier, E. A., et al. 2016, arXiv:1612.05244\n",
      "Pan-STARRS Photometric and Astrometric Calibration, Magnier, E. A., et\n",
      "al. 2016, arXiv:1612.05242\n",
      "The Pan-STARRS1 Database and Data Products, Flewelling, H. A., et al.\n",
      "2016, arXiv:1612.05243\n",
      "\n",
      "Catalogue curator:\n",
      "SSDC - ASI Space Science Data Center\n",
      "https://www.ssdc.asi.it/\n",
      "Num. columns: 26\n"
     ]
    }
   ],
   "source": [
    "print(table_metadata)"
   ]
  },
  {
   "cell_type": "code",
   "execution_count": 11,
   "metadata": {},
   "outputs": [
    {
     "name": "stdout",
     "output_type": "stream",
     "text": [
      "# of columns: 26\n"
     ]
    }
   ],
   "source": [
    "print(f'# of columns: {len(table_metadata.columns)}')"
   ]
  },
  {
   "cell_type": "code",
   "execution_count": 12,
   "metadata": {},
   "outputs": [
    {
     "name": "stdout",
     "output_type": "stream",
     "text": [
      "TAP Column name: obj_name\n",
      "Description: IAU name \n",
      "Unit: None\n",
      "Ucd: None\n",
      "Utype: None\n",
      "DataType: None\n",
      "ArraySize: None\n",
      "Flag: None\n",
      "Flags: 32\n",
      "TAP Column name: obj_id\n",
      "Description: Unique Object Identifier\n",
      "Unit: None\n",
      "Ucd: None\n",
      "Utype: None\n",
      "DataType: None\n",
      "ArraySize: None\n",
      "Flag: primary\n",
      "Flags: 48\n",
      "TAP Column name: ra\n",
      "Description: RA Mean\n",
      "Unit: deg\n",
      "Ucd: None\n",
      "Utype: Char.SpatialAxis.Coverage.Location.Coord.Position2D.Value2.C1\n",
      "DataType: None\n",
      "ArraySize: None\n",
      "Flag: primary\n",
      "Flags: 33\n",
      "TAP Column name: dec\n",
      "Description: DEC Mean\n",
      "Unit: deg\n",
      "Ucd: None\n",
      "Utype: Char.SpatialAxis.Coverage.Location.Coord.Position2D.Value2.C2\n",
      "DataType: None\n",
      "ArraySize: None\n",
      "Flag: primary\n",
      "Flags: 34\n",
      "TAP Column name: ra_error\n",
      "Description: RA Mean standard deviation \n",
      "Unit: arcsec\n",
      "Ucd: None\n",
      "Utype: None\n",
      "DataType: None\n",
      "ArraySize: None\n",
      "Flag: None\n",
      "Flags: 32\n",
      "TAP Column name: dec_error\n",
      "Description: DEC Mean standard deviation\n",
      "Unit: arcsec\n",
      "Ucd: None\n",
      "Utype: None\n",
      "DataType: None\n",
      "ArraySize: None\n",
      "Flag: None\n",
      "Flags: 32\n",
      "TAP Column name: epoch_mean\n",
      "Description: Epoch Mean\n",
      "Unit: d\n",
      "Ucd: None\n",
      "Utype: None\n",
      "DataType: None\n",
      "ArraySize: None\n",
      "Flag: None\n",
      "Flags: 32\n",
      "TAP Column name: g_mean_psf_mag\n",
      "Description: Mean magnitude in g filter\n",
      "Unit: None\n",
      "Ucd: None\n",
      "Utype: None\n",
      "DataType: None\n",
      "ArraySize: None\n",
      "Flag: primary\n",
      "Flags: 32\n",
      "TAP Column name: g_mean_psf_mag_error\n",
      "Description: Error in Mean magnitude in g filter\n",
      "Unit: mag\n",
      "Ucd: None\n",
      "Utype: None\n",
      "DataType: None\n",
      "ArraySize: None\n",
      "Flag: None\n",
      "Flags: 32\n",
      "TAP Column name: g_flags\n",
      "Description: g filter flags\n",
      "Unit: mag\n",
      "Ucd: None\n",
      "Utype: None\n",
      "DataType: None\n",
      "ArraySize: None\n",
      "Flag: None\n",
      "Flags: 32\n",
      "TAP Column name: r_mean_psf_mag\n",
      "Description: Mean magnitude in r filter\n",
      "Unit: mag\n",
      "Ucd: None\n",
      "Utype: None\n",
      "DataType: None\n",
      "ArraySize: None\n",
      "Flag: primary\n",
      "Flags: 32\n",
      "TAP Column name: r_mean_psf_mag_error\n",
      "Description: Error in Mean magnitude in r filter\n",
      "Unit: mag\n",
      "Ucd: None\n",
      "Utype: None\n",
      "DataType: None\n",
      "ArraySize: None\n",
      "Flag: None\n",
      "Flags: 32\n",
      "TAP Column name: r_flags\n",
      "Description: r filter flags\n",
      "Unit: None\n",
      "Ucd: None\n",
      "Utype: None\n",
      "DataType: None\n",
      "ArraySize: None\n",
      "Flag: None\n",
      "Flags: 32\n",
      "TAP Column name: i_mean_psf_mag\n",
      "Description: Mean magnitude in i filter\n",
      "Unit: mag\n",
      "Ucd: None\n",
      "Utype: None\n",
      "DataType: None\n",
      "ArraySize: None\n",
      "Flag: primary\n",
      "Flags: 32\n",
      "TAP Column name: i_mean_psf_mag_error\n",
      "Description: Error in Mean magnitude in i filter\n",
      "Unit: mag\n",
      "Ucd: None\n",
      "Utype: None\n",
      "DataType: None\n",
      "ArraySize: None\n",
      "Flag: None\n",
      "Flags: 32\n",
      "TAP Column name: i_flags\n",
      "Description: i filter flags\n",
      "Unit: None\n",
      "Ucd: None\n",
      "Utype: None\n",
      "DataType: None\n",
      "ArraySize: None\n",
      "Flag: None\n",
      "Flags: 32\n",
      "TAP Column name: z_mean_psf_mag\n",
      "Description: Mean magnitude in z filter\n",
      "Unit: mag\n",
      "Ucd: None\n",
      "Utype: None\n",
      "DataType: None\n",
      "ArraySize: None\n",
      "Flag: primary\n",
      "Flags: 32\n",
      "TAP Column name: z_mean_psf_mag_error\n",
      "Description: Error in Mean magnitude in z filter\n",
      "Unit: mag\n",
      "Ucd: None\n",
      "Utype: None\n",
      "DataType: None\n",
      "ArraySize: None\n",
      "Flag: None\n",
      "Flags: 32\n",
      "TAP Column name: z_flags\n",
      "Description: z filter flags\n",
      "Unit: None\n",
      "Ucd: None\n",
      "Utype: None\n",
      "DataType: None\n",
      "ArraySize: None\n",
      "Flag: None\n",
      "Flags: 32\n",
      "TAP Column name: y_mean_psf_mag\n",
      "Description: Mean magnitude in y filter\n",
      "Unit: mag\n",
      "Ucd: None\n",
      "Utype: None\n",
      "DataType: None\n",
      "ArraySize: None\n",
      "Flag: primary\n",
      "Flags: 32\n",
      "TAP Column name: y_mean_psf_mag_error\n",
      "Description: Error in Mean magnitude in y filter\n",
      "Unit: mag\n",
      "Ucd: None\n",
      "Utype: None\n",
      "DataType: None\n",
      "ArraySize: None\n",
      "Flag: None\n",
      "Flags: 32\n",
      "TAP Column name: y_flags\n",
      "Description: y filter flags\n",
      "Unit: None\n",
      "Ucd: None\n",
      "Utype: None\n",
      "DataType: None\n",
      "ArraySize: None\n",
      "Flag: None\n",
      "Flags: 32\n",
      "TAP Column name: n_detections\n",
      "Description: Number of detections\n",
      "Unit: None\n",
      "Ucd: None\n",
      "Utype: None\n",
      "DataType: None\n",
      "ArraySize: None\n",
      "Flag: None\n",
      "Flags: 32\n",
      "TAP Column name: zone_id\n",
      "Description: Local zone index\n",
      "Unit: None\n",
      "Ucd: None\n",
      "Utype: None\n",
      "DataType: None\n",
      "ArraySize: None\n",
      "Flag: None\n",
      "Flags: 32\n",
      "TAP Column name: obj_info_flag\n",
      "Description: Object information flags\n",
      "Unit: None\n",
      "Ucd: None\n",
      "Utype: None\n",
      "DataType: None\n",
      "ArraySize: None\n",
      "Flag: None\n",
      "Flags: 32\n",
      "TAP Column name: quality_flag\n",
      "Description: Object quality flags\n",
      "Unit: None\n",
      "Ucd: None\n",
      "Utype: None\n",
      "DataType: None\n",
      "ArraySize: None\n",
      "Flag: None\n",
      "Flags: 32\n"
     ]
    }
   ],
   "source": [
    "for column in table_metadata.columns:\n",
    "    print(column)"
   ]
  },
  {
   "cell_type": "markdown",
   "metadata": {},
   "source": [
    "## Writing Queries"
   ]
  },
  {
   "cell_type": "code",
   "execution_count": 13,
   "metadata": {},
   "outputs": [],
   "source": [
    "query1 = \"\"\"SELECT \n",
    "TOP 10\n",
    "source_id, ra, dec, parallax \n",
    "FROM gaiadr2.gaia_source\n",
    "\"\"\""
   ]
  },
  {
   "cell_type": "code",
   "execution_count": 14,
   "metadata": {},
   "outputs": [],
   "source": [
    "job1 = Gaia.launch_job(query1)"
   ]
  },
  {
   "cell_type": "code",
   "execution_count": 15,
   "metadata": {},
   "outputs": [
    {
     "name": "stdout",
     "output_type": "stream",
     "text": [
      "<Table length=10>\n",
      "   name    dtype  unit                            description                            \n",
      "--------- ------- ---- ------------------------------------------------------------------\n",
      "source_id   int64      Unique source identifier (unique within a particular Data Release)\n",
      "       ra float64  deg                                                    Right ascension\n",
      "      dec float64  deg                                                        Declination\n",
      " parallax float64  mas                                                           Parallax\n",
      "Jobid: None\n",
      "Phase: COMPLETED\n",
      "Owner: None\n",
      "Output file: 1702850597468O-result.vot.gz\n",
      "Results: None\n"
     ]
    }
   ],
   "source": [
    "print(job1)"
   ]
  },
  {
   "cell_type": "code",
   "execution_count": 16,
   "metadata": {},
   "outputs": [],
   "source": [
    "results1 = job1.get_results()"
   ]
  },
  {
   "cell_type": "code",
   "execution_count": 17,
   "metadata": {},
   "outputs": [
    {
     "data": {
      "text/plain": [
       "astropy.table.table.Table"
      ]
     },
     "execution_count": 17,
     "metadata": {},
     "output_type": "execute_result"
    }
   ],
   "source": [
    "type(results1)"
   ]
  },
  {
   "cell_type": "code",
   "execution_count": 19,
   "metadata": {},
   "outputs": [
    {
     "data": {
      "text/html": [
       "<div><i>Table length=10</i>\n",
       "<table id=\"table5095292432\" class=\"table-striped table-bordered table-condensed\">\n",
       "<thead><tr><th>source_id</th><th>ra</th><th>dec</th><th>parallax</th></tr></thead>\n",
       "<thead><tr><th></th><th>deg</th><th>deg</th><th>mas</th></tr></thead>\n",
       "<thead><tr><th>int64</th><th>float64</th><th>float64</th><th>float64</th></tr></thead>\n",
       "<tr><td>4464195329654279808</td><td>243.36304525767025</td><td>13.332207539188948</td><td>0.16439076081079823</td></tr>\n",
       "<tr><td>4464157602662621312</td><td>245.76072515952</td><td>15.362547713561668</td><td>-0.2110296432373516</td></tr>\n",
       "<tr><td>4464174164056625024</td><td>246.29390759706718</td><td>15.47257793268518</td><td>0.4746433256414075</td></tr>\n",
       "<tr><td>4464158186777864192</td><td>246.11665685784646</td><td>15.1492979577105</td><td>0.29595400139231925</td></tr>\n",
       "<tr><td>4464194092703698048</td><td>243.32130865040432</td><td>13.330617936122106</td><td>0.9563165300756201</td></tr>\n",
       "<tr><td>4464185571489765376</td><td>246.0771571149933</td><td>15.475361948153898</td><td>0.3581981880000272</td></tr>\n",
       "<tr><td>4464057757557728512</td><td>246.0506722084623</td><td>14.64822560418678</td><td>0.2130643096328948</td></tr>\n",
       "<tr><td>4464152311262771968</td><td>245.87683702199857</td><td>15.255548579139372</td><td>-0.40638837982933834</td></tr>\n",
       "<tr><td>4464241268624812672</td><td>243.88258608658998</td><td>13.903782305036847</td><td>-0.19420855523180477</td></tr>\n",
       "<tr><td>4464064419051281024</td><td>246.39883051914418</td><td>14.80697876478872</td><td>-1.4422448853355199</td></tr>\n",
       "</table></div>"
      ],
      "text/plain": [
       "<Table length=10>\n",
       "     source_id              ra                dec               parallax      \n",
       "                           deg                deg                 mas         \n",
       "       int64             float64            float64             float64       \n",
       "------------------- ------------------ ------------------ --------------------\n",
       "4464195329654279808 243.36304525767025 13.332207539188948  0.16439076081079823\n",
       "4464157602662621312    245.76072515952 15.362547713561668  -0.2110296432373516\n",
       "4464174164056625024 246.29390759706718  15.47257793268518   0.4746433256414075\n",
       "4464158186777864192 246.11665685784646   15.1492979577105  0.29595400139231925\n",
       "4464194092703698048 243.32130865040432 13.330617936122106   0.9563165300756201\n",
       "4464185571489765376  246.0771571149933 15.475361948153898   0.3581981880000272\n",
       "4464057757557728512  246.0506722084623  14.64822560418678   0.2130643096328948\n",
       "4464152311262771968 245.87683702199857 15.255548579139372 -0.40638837982933834\n",
       "4464241268624812672 243.88258608658998 13.903782305036847 -0.19420855523180477\n",
       "4464064419051281024 246.39883051914418  14.80697876478872  -1.4422448853355199"
      ]
     },
     "metadata": {},
     "output_type": "display_data"
    }
   ],
   "source": [
    "display(results1)"
   ]
  },
  {
   "cell_type": "markdown",
   "metadata": {},
   "source": [
    "### Exercise "
   ]
  },
  {
   "cell_type": "code",
   "execution_count": 20,
   "metadata": {},
   "outputs": [],
   "source": [
    "query2 = \"\"\"SELECT \n",
    "TOP 10\n",
    "astrometric_weight_al\n",
    "FROM gaiadr2.gaia_source\n",
    "\"\"\""
   ]
  },
  {
   "cell_type": "code",
   "execution_count": 21,
   "metadata": {},
   "outputs": [],
   "source": [
    "job2 = Gaia.launch_job(query2)"
   ]
  },
  {
   "cell_type": "code",
   "execution_count": 23,
   "metadata": {},
   "outputs": [],
   "source": [
    "results2 = job2.get_results()"
   ]
  },
  {
   "cell_type": "code",
   "execution_count": 24,
   "metadata": {},
   "outputs": [
    {
     "data": {
      "text/html": [
       "<div><i>Table length=10</i>\n",
       "<table id=\"table5095437776\" class=\"table-striped table-bordered table-condensed\">\n",
       "<thead><tr><th>astrometric_weight_al</th></tr></thead>\n",
       "<thead><tr><th>1 / mas2</th></tr></thead>\n",
       "<thead><tr><th>float32</th></tr></thead>\n",
       "<tr><td>0.8904024</td></tr>\n",
       "<tr><td>0.07836249</td></tr>\n",
       "<tr><td>0.07434325</td></tr>\n",
       "<tr><td>0.030220281</td></tr>\n",
       "<tr><td>0.07863371</td></tr>\n",
       "<tr><td>0.9434393</td></tr>\n",
       "<tr><td>0.020451793</td></tr>\n",
       "<tr><td>0.01893733</td></tr>\n",
       "<tr><td>0.08867531</td></tr>\n",
       "<tr><td>0.017590186</td></tr>\n",
       "</table></div>"
      ],
      "text/plain": [
       "<Table length=10>\n",
       "astrometric_weight_al\n",
       "       1 / mas2      \n",
       "       float32       \n",
       "---------------------\n",
       "            0.8904024\n",
       "           0.07836249\n",
       "           0.07434325\n",
       "          0.030220281\n",
       "           0.07863371\n",
       "            0.9434393\n",
       "          0.020451793\n",
       "           0.01893733\n",
       "           0.08867531\n",
       "          0.017590186"
      ]
     },
     "metadata": {},
     "output_type": "display_data"
    }
   ],
   "source": [
    "display(results2)"
   ]
  },
  {
   "cell_type": "code",
   "execution_count": 34,
   "metadata": {},
   "outputs": [
    {
     "name": "stdout",
     "output_type": "stream",
     "text": [
      "units: 1/mass2\n",
      "datatype: float32\n"
     ]
    }
   ],
   "source": [
    "print('units: 1/mass2\\ndatatype: float32')"
   ]
  },
  {
   "cell_type": "markdown",
   "metadata": {},
   "source": [
    "## Asynchronous Query"
   ]
  },
  {
   "cell_type": "code",
   "execution_count": 35,
   "metadata": {},
   "outputs": [],
   "source": [
    "query2 = \"\"\"SELECT \n",
    "TOP 3000\n",
    "source_id, ra, dec, pmra, pmdec, parallax\n",
    "FROM gaiadr2.gaia_source\n",
    "WHERE parallax < 1\n",
    "\"\"\""
   ]
  },
  {
   "cell_type": "code",
   "execution_count": 36,
   "metadata": {},
   "outputs": [
    {
     "name": "stdout",
     "output_type": "stream",
     "text": [
      "INFO: Query finished. [astroquery.utils.tap.core]\n"
     ]
    }
   ],
   "source": [
    "job2 = Gaia.launch_job_async(query2)"
   ]
  },
  {
   "cell_type": "code",
   "execution_count": 37,
   "metadata": {},
   "outputs": [],
   "source": [
    "results2 = job2.get_results()"
   ]
  },
  {
   "cell_type": "code",
   "execution_count": 38,
   "metadata": {},
   "outputs": [
    {
     "data": {
      "text/html": [
       "<div><i>Table length=3000</i>\n",
       "<table id=\"table5238774864\" class=\"table-striped table-bordered table-condensed\">\n",
       "<thead><tr><th>source_id</th><th>ra</th><th>dec</th><th>pmra</th><th>pmdec</th><th>parallax</th></tr></thead>\n",
       "<thead><tr><th></th><th>deg</th><th>deg</th><th>mas / yr</th><th>mas / yr</th><th>mas</th></tr></thead>\n",
       "<thead><tr><th>int64</th><th>float64</th><th>float64</th><th>float64</th><th>float64</th><th>float64</th></tr></thead>\n",
       "<tr><td>4464195329654279808</td><td>243.36304525767025</td><td>13.332207539188948</td><td>-1.9836654839798653</td><td>-3.441298033102305</td><td>0.16439076081079823</td></tr>\n",
       "<tr><td>4464157602662621312</td><td>245.76072515952</td><td>15.362547713561668</td><td>6.479901956928507</td><td>2.4402691076146428</td><td>-0.2110296432373516</td></tr>\n",
       "<tr><td>4464174164056625024</td><td>246.29390759706718</td><td>15.47257793268518</td><td>4.866522777608916</td><td>-15.68232420624172</td><td>0.4746433256414075</td></tr>\n",
       "<tr><td>4464158186777864192</td><td>246.11665685784646</td><td>15.1492979577105</td><td>-8.436758190824952</td><td>0.15197524558621486</td><td>0.29595400139231925</td></tr>\n",
       "<tr><td>4464194092703698048</td><td>243.32130865040432</td><td>13.330617936122106</td><td>1.7000647673456717</td><td>-5.321352978282461</td><td>0.9563165300756201</td></tr>\n",
       "<tr><td>4464185571489765376</td><td>246.0771571149933</td><td>15.475361948153898</td><td>-5.726885024117942</td><td>-5.336187466029946</td><td>0.3581981880000272</td></tr>\n",
       "<tr><td>4464057757557728512</td><td>246.0506722084623</td><td>14.64822560418678</td><td>3.0113895465081773</td><td>0.4941345509804351</td><td>0.2130643096328948</td></tr>\n",
       "<tr><td>4464152311262771968</td><td>245.87683702199857</td><td>15.255548579139372</td><td>-2.6858663354910846</td><td>-3.537909854152293</td><td>-0.40638837982933834</td></tr>\n",
       "<tr><td>4464241268624812672</td><td>243.88258608658998</td><td>13.903782305036847</td><td>-11.17364343847565</td><td>-15.206698483999416</td><td>-0.19420855523180477</td></tr>\n",
       "<tr><td>...</td><td>...</td><td>...</td><td>...</td><td>...</td><td>...</td></tr>\n",
       "<tr><td>6725834883378092416</td><td>273.3088230322475</td><td>-39.749945506324906</td><td>-4.695448523596903</td><td>-5.574679129339478</td><td>-0.13909125164638095</td></tr>\n",
       "<tr><td>6725828144553623168</td><td>273.2910171038627</td><td>-39.962703033838395</td><td>-3.036910628017877</td><td>-1.2872392081609894</td><td>0.16850260196479175</td></tr>\n",
       "<tr><td>6725809899539840128</td><td>273.51103512081886</td><td>-40.14076843916654</td><td>-0.8883917996272648</td><td>-2.3954322958146275</td><td>0.5321461021832465</td></tr>\n",
       "<tr><td>2047235748364248320</td><td>294.9546597059744</td><td>34.43523488227614</td><td>-4.83871329264557</td><td>-5.6458640340503905</td><td>0.5393691852721573</td></tr>\n",
       "<tr><td>2047214509741885440</td><td>295.24098483113613</td><td>34.211656545951115</td><td>-2.793239172922573</td><td>-2.248799876288064</td><td>0.4680581832615711</td></tr>\n",
       "<tr><td>2047249492264160384</td><td>294.555194847184</td><td>34.198921617125606</td><td>-4.2980064969819765</td><td>-7.119269649560746</td><td>0.11749580828676684</td></tr>\n",
       "<tr><td>2047240593102815872</td><td>294.3428005194154</td><td>34.03508885458059</td><td>-4.1281392437821065</td><td>-10.214532150735327</td><td>-0.06605790006821927</td></tr>\n",
       "<tr><td>2047211078071154304</td><td>294.9798469313157</td><td>34.173458123150084</td><td>-1.0170045117766058</td><td>-4.353523618754814</td><td>0.1387006184628933</td></tr>\n",
       "<tr><td>2047220149057610112</td><td>295.12792194981273</td><td>34.37397168317838</td><td>-4.0684795747442575</td><td>-5.7462960061921375</td><td>0.17383453709077623</td></tr>\n",
       "<tr><td>2047212280659447040</td><td>295.20180227857117</td><td>34.14403877141493</td><td>-3.9075378399697187</td><td>-5.607754605464406</td><td>-1.0441285639346136</td></tr>\n",
       "</table></div>"
      ],
      "text/plain": [
       "<Table length=3000>\n",
       "     source_id              ra         ...       parallax      \n",
       "                           deg         ...         mas         \n",
       "       int64             float64       ...       float64       \n",
       "------------------- ------------------ ... --------------------\n",
       "4464195329654279808 243.36304525767025 ...  0.16439076081079823\n",
       "4464157602662621312    245.76072515952 ...  -0.2110296432373516\n",
       "4464174164056625024 246.29390759706718 ...   0.4746433256414075\n",
       "4464158186777864192 246.11665685784646 ...  0.29595400139231925\n",
       "4464194092703698048 243.32130865040432 ...   0.9563165300756201\n",
       "4464185571489765376  246.0771571149933 ...   0.3581981880000272\n",
       "4464057757557728512  246.0506722084623 ...   0.2130643096328948\n",
       "4464152311262771968 245.87683702199857 ... -0.40638837982933834\n",
       "4464241268624812672 243.88258608658998 ... -0.19420855523180477\n",
       "                ...                ... ...                  ...\n",
       "6725834883378092416  273.3088230322475 ... -0.13909125164638095\n",
       "6725828144553623168  273.2910171038627 ...  0.16850260196479175\n",
       "6725809899539840128 273.51103512081886 ...   0.5321461021832465\n",
       "2047235748364248320  294.9546597059744 ...   0.5393691852721573\n",
       "2047214509741885440 295.24098483113613 ...   0.4680581832615711\n",
       "2047249492264160384   294.555194847184 ...  0.11749580828676684\n",
       "2047240593102815872  294.3428005194154 ... -0.06605790006821927\n",
       "2047211078071154304  294.9798469313157 ...   0.1387006184628933\n",
       "2047220149057610112 295.12792194981273 ...  0.17383453709077623\n",
       "2047212280659447040 295.20180227857117 ...  -1.0441285639346136"
      ]
     },
     "execution_count": 38,
     "metadata": {},
     "output_type": "execute_result"
    }
   ],
   "source": [
    "results2"
   ]
  },
  {
   "cell_type": "markdown",
   "metadata": {},
   "source": [
    "### Exercise"
   ]
  },
  {
   "cell_type": "code",
   "execution_count": 40,
   "metadata": {},
   "outputs": [],
   "source": [
    "query3 = \"\"\"SELECT \n",
    "TOP 10\n",
    "source_id, ra, dec, pmra, pmdec, parallax\n",
    "FROM gaiadr2.gaia_source\n",
    "WHERE parallax < 1\n",
    "AND bp_rp BETWEEN -0.75 AND 2\n",
    "\"\"\""
   ]
  },
  {
   "cell_type": "code",
   "execution_count": 42,
   "metadata": {},
   "outputs": [
    {
     "name": "stdout",
     "output_type": "stream",
     "text": [
      "INFO: Query finished. [astroquery.utils.tap.core]\n"
     ]
    }
   ],
   "source": [
    "job3 = Gaia.launch_job_async(query3)"
   ]
  },
  {
   "cell_type": "code",
   "execution_count": 44,
   "metadata": {},
   "outputs": [],
   "source": [
    "results3 = job3.get_results()"
   ]
  },
  {
   "cell_type": "code",
   "execution_count": 45,
   "metadata": {},
   "outputs": [
    {
     "data": {
      "text/html": [
       "<div><i>Table length=10</i>\n",
       "<table id=\"table5095915728\" class=\"table-striped table-bordered table-condensed\">\n",
       "<thead><tr><th>source_id</th><th>ra</th><th>dec</th><th>pmra</th><th>pmdec</th><th>parallax</th></tr></thead>\n",
       "<thead><tr><th></th><th>deg</th><th>deg</th><th>mas / yr</th><th>mas / yr</th><th>mas</th></tr></thead>\n",
       "<thead><tr><th>int64</th><th>float64</th><th>float64</th><th>float64</th><th>float64</th><th>float64</th></tr></thead>\n",
       "<tr><td>6003867407926739456</td><td>229.24758693475437</td><td>-43.16625918475101</td><td>-3.9049079044132275</td><td>-3.422843525415794</td><td>0.05337544640744751</td></tr>\n",
       "<tr><td>6003862593274134272</td><td>229.3240572514041</td><td>-43.30003699919699</td><td>-0.22955735153158047</td><td>-0.9573006030523264</td><td>0.2910314419482718</td></tr>\n",
       "<tr><td>6003875581255862912</td><td>229.36961431833257</td><td>-43.03090376178989</td><td>-1.5247425988530106</td><td>-3.753223250404989</td><td>-0.21654434890941276</td></tr>\n",
       "<tr><td>6003855794347089280</td><td>227.8787501383429</td><td>-42.0304574241058</td><td>-6.2945330129631</td><td>-7.315154180715561</td><td>0.5714909134248712</td></tr>\n",
       "<tr><td>6003880013661767680</td><td>229.09787222898308</td><td>-43.14185448285732</td><td>-7.7266148254774345</td><td>-5.5070759763662265</td><td>0.1649270591240445</td></tr>\n",
       "<tr><td>6003864964096236160</td><td>229.38597602489725</td><td>-43.19593891106351</td><td>-1.8721997950809894</td><td>-2.7949125414475304</td><td>-0.10824132246034551</td></tr>\n",
       "<tr><td>6003863452267599360</td><td>229.43070771018938</td><td>-43.293186721356236</td><td>-2.000916932184583</td><td>-3.4138337304921507</td><td>-0.7520271427356142</td></tr>\n",
       "<tr><td>6003882526223613696</td><td>229.16484355674228</td><td>-43.0038650003512</td><td>-2.6359111543799414</td><td>-1.6866297327050366</td><td>0.18630754942153394</td></tr>\n",
       "<tr><td>6003866579003940096</td><td>229.26086330590024</td><td>-43.19788846601107</td><td>-4.7560742261234505</td><td>-4.194178687550287</td><td>0.37909391434721096</td></tr>\n",
       "<tr><td>6003884931394538752</td><td>229.06612564541248</td><td>-42.98700369253328</td><td>-2.19026412081575</td><td>-7.092835126702379</td><td>-0.6693156171278136</td></tr>\n",
       "</table></div>"
      ],
      "text/plain": [
       "<Table length=10>\n",
       "     source_id              ra         ...       parallax      \n",
       "                           deg         ...         mas         \n",
       "       int64             float64       ...       float64       \n",
       "------------------- ------------------ ... --------------------\n",
       "6003867407926739456 229.24758693475437 ...  0.05337544640744751\n",
       "6003862593274134272  229.3240572514041 ...   0.2910314419482718\n",
       "6003875581255862912 229.36961431833257 ... -0.21654434890941276\n",
       "6003855794347089280  227.8787501383429 ...   0.5714909134248712\n",
       "6003880013661767680 229.09787222898308 ...   0.1649270591240445\n",
       "6003864964096236160 229.38597602489725 ... -0.10824132246034551\n",
       "6003863452267599360 229.43070771018938 ...  -0.7520271427356142\n",
       "6003882526223613696 229.16484355674228 ...  0.18630754942153394\n",
       "6003866579003940096 229.26086330590024 ...  0.37909391434721096\n",
       "6003884931394538752 229.06612564541248 ...  -0.6693156171278136"
      ]
     },
     "execution_count": 45,
     "metadata": {},
     "output_type": "execute_result"
    }
   ],
   "source": [
    "results3"
   ]
  },
  {
   "cell_type": "markdown",
   "metadata": {},
   "source": [
    "## Formatting Queries"
   ]
  },
  {
   "cell_type": "code",
   "execution_count": 52,
   "metadata": {},
   "outputs": [
    {
     "name": "stdout",
     "output_type": "stream",
     "text": [
      "SELECT \n",
      "TOP 10 \n",
      "source_id, ra, dec, pmra, pmdec, parallax\n",
      "FROM gaiadr2.gaia_source\n",
      "WHERE parallax < 1\n",
      "    AND bp_rp BETWEEN -0.75 AND 2\n",
      "\n"
     ]
    }
   ],
   "source": [
    "columns = 'source_id, ra, dec, pmra, pmdec, parallax'\n",
    "\n",
    "query3_base = \"\"\"SELECT \n",
    "TOP 10 \n",
    "{columns}\n",
    "FROM gaiadr2.gaia_source\n",
    "WHERE parallax < 1\n",
    "    AND bp_rp BETWEEN -0.75 AND 2\n",
    "\"\"\"\n",
    "\n",
    "query3 = query3_base.format(columns=columns)\n",
    "\n",
    "print(query3)"
   ]
  },
  {
   "cell_type": "code",
   "execution_count": 53,
   "metadata": {},
   "outputs": [
    {
     "name": "stdout",
     "output_type": "stream",
     "text": [
      "<Table length=10>\n",
      "   name    dtype    unit                              description                            \n",
      "--------- ------- -------- ------------------------------------------------------------------\n",
      "source_id   int64          Unique source identifier (unique within a particular Data Release)\n",
      "       ra float64      deg                                                    Right ascension\n",
      "      dec float64      deg                                                        Declination\n",
      "     pmra float64 mas / yr                         Proper motion in right ascension direction\n",
      "    pmdec float64 mas / yr                             Proper motion in declination direction\n",
      " parallax float64      mas                                                           Parallax\n",
      "Jobid: None\n",
      "Phase: COMPLETED\n",
      "Owner: None\n",
      "Output file: 1702852681832O-result.vot.gz\n",
      "Results: None\n"
     ]
    }
   ],
   "source": [
    "job3 = Gaia.launch_job(query3)\n",
    "print(job3)"
   ]
  },
  {
   "cell_type": "code",
   "execution_count": 54,
   "metadata": {},
   "outputs": [
    {
     "data": {
      "text/html": [
       "<div><i>Table length=10</i>\n",
       "<table id=\"table5238736400\" class=\"table-striped table-bordered table-condensed\">\n",
       "<thead><tr><th>source_id</th><th>ra</th><th>dec</th><th>pmra</th><th>pmdec</th><th>parallax</th></tr></thead>\n",
       "<thead><tr><th></th><th>deg</th><th>deg</th><th>mas / yr</th><th>mas / yr</th><th>mas</th></tr></thead>\n",
       "<thead><tr><th>int64</th><th>float64</th><th>float64</th><th>float64</th><th>float64</th><th>float64</th></tr></thead>\n",
       "<tr><td>6003867407926739456</td><td>229.24758693475437</td><td>-43.16625918475101</td><td>-3.9049079044132275</td><td>-3.422843525415794</td><td>0.05337544640744751</td></tr>\n",
       "<tr><td>6003862593274134272</td><td>229.3240572514041</td><td>-43.30003699919699</td><td>-0.22955735153158047</td><td>-0.9573006030523264</td><td>0.2910314419482718</td></tr>\n",
       "<tr><td>6003875581255862912</td><td>229.36961431833257</td><td>-43.03090376178989</td><td>-1.5247425988530106</td><td>-3.753223250404989</td><td>-0.21654434890941276</td></tr>\n",
       "<tr><td>6003855794347089280</td><td>227.8787501383429</td><td>-42.0304574241058</td><td>-6.2945330129631</td><td>-7.315154180715561</td><td>0.5714909134248712</td></tr>\n",
       "<tr><td>6003880013661767680</td><td>229.09787222898308</td><td>-43.14185448285732</td><td>-7.7266148254774345</td><td>-5.5070759763662265</td><td>0.1649270591240445</td></tr>\n",
       "<tr><td>6003864964096236160</td><td>229.38597602489725</td><td>-43.19593891106351</td><td>-1.8721997950809894</td><td>-2.7949125414475304</td><td>-0.10824132246034551</td></tr>\n",
       "<tr><td>6003863452267599360</td><td>229.43070771018938</td><td>-43.293186721356236</td><td>-2.000916932184583</td><td>-3.4138337304921507</td><td>-0.7520271427356142</td></tr>\n",
       "<tr><td>6003882526223613696</td><td>229.16484355674228</td><td>-43.0038650003512</td><td>-2.6359111543799414</td><td>-1.6866297327050366</td><td>0.18630754942153394</td></tr>\n",
       "<tr><td>6003866579003940096</td><td>229.26086330590024</td><td>-43.19788846601107</td><td>-4.7560742261234505</td><td>-4.194178687550287</td><td>0.37909391434721096</td></tr>\n",
       "<tr><td>6003884931394538752</td><td>229.06612564541248</td><td>-42.98700369253328</td><td>-2.19026412081575</td><td>-7.092835126702379</td><td>-0.6693156171278136</td></tr>\n",
       "</table></div>"
      ],
      "text/plain": [
       "<Table length=10>\n",
       "     source_id              ra         ...       parallax      \n",
       "                           deg         ...         mas         \n",
       "       int64             float64       ...       float64       \n",
       "------------------- ------------------ ... --------------------\n",
       "6003867407926739456 229.24758693475437 ...  0.05337544640744751\n",
       "6003862593274134272  229.3240572514041 ...   0.2910314419482718\n",
       "6003875581255862912 229.36961431833257 ... -0.21654434890941276\n",
       "6003855794347089280  227.8787501383429 ...   0.5714909134248712\n",
       "6003880013661767680 229.09787222898308 ...   0.1649270591240445\n",
       "6003864964096236160 229.38597602489725 ... -0.10824132246034551\n",
       "6003863452267599360 229.43070771018938 ...  -0.7520271427356142\n",
       "6003882526223613696 229.16484355674228 ...  0.18630754942153394\n",
       "6003866579003940096 229.26086330590024 ...  0.37909391434721096\n",
       "6003884931394538752 229.06612564541248 ...  -0.6693156171278136"
      ]
     },
     "metadata": {},
     "output_type": "display_data"
    }
   ],
   "source": [
    "results3 = job3.get_results()\n",
    "display(results3)"
   ]
  },
  {
   "cell_type": "markdown",
   "metadata": {},
   "source": [
    "### Exercise"
   ]
  },
  {
   "cell_type": "code",
   "execution_count": 56,
   "metadata": {},
   "outputs": [
    {
     "name": "stdout",
     "output_type": "stream",
     "text": [
      "SELECT \n",
      "TOP 10 \n",
      "source_id, ra, dec, pmra, pmdec, parallax\n",
      "FROM gaiadr2.gaia_source\n",
      "WHERE parallax < 1\n",
      "    AND bp_rp BETWEEN -0.75 AND 2\n",
      "\n"
     ]
    }
   ],
   "source": [
    "columns = 'source_id, ra, dec, pmra, pmdec, parallax'\n",
    "\n",
    "query3_base = \"\"\"SELECT \n",
    "TOP 10 \n",
    "{columns}\n",
    "FROM gaiadr2.gaia_source\n",
    "WHERE parallax < {max_parallax}\n",
    "    AND bp_rp BETWEEN -0.75 AND 2\n",
    "\"\"\"\n",
    "\n",
    "query3 = query3_base.format(columns=columns,max_parallax=1)\n",
    "\n",
    "print(query3)"
   ]
  },
  {
   "cell_type": "code",
   "execution_count": null,
   "metadata": {},
   "outputs": [],
   "source": []
  }
 ],
 "metadata": {
  "kernelspec": {
   "display_name": "base",
   "language": "python",
   "name": "python3"
  },
  "language_info": {
   "codemirror_mode": {
    "name": "ipython",
    "version": 3
   },
   "file_extension": ".py",
   "mimetype": "text/x-python",
   "name": "python",
   "nbconvert_exporter": "python",
   "pygments_lexer": "ipython3",
   "version": "3.11.4"
  }
 },
 "nbformat": 4,
 "nbformat_minor": 2
}
