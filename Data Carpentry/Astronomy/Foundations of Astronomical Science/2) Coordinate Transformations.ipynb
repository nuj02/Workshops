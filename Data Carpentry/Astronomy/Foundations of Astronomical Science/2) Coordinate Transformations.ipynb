{
 "cells": [
  {
   "cell_type": "markdown",
   "metadata": {},
   "source": [
    "# 2. Coordinate Transformations"
   ]
  },
  {
   "cell_type": "markdown",
   "metadata": {},
   "source": [
    "## Working with Units"
   ]
  },
  {
   "cell_type": "code",
   "execution_count": 2,
   "metadata": {},
   "outputs": [],
   "source": [
    "import astropy.units as u\n",
    "from astroquery.gaia import Gaia"
   ]
  },
  {
   "cell_type": "code",
   "execution_count": 3,
   "metadata": {},
   "outputs": [
    {
     "data": {
      "text/plain": [
       "astropy.units.quantity.Quantity"
      ]
     },
     "execution_count": 3,
     "metadata": {},
     "output_type": "execute_result"
    }
   ],
   "source": [
    "angle = 10 * u.degree\n",
    "type(angle)"
   ]
  },
  {
   "cell_type": "code",
   "execution_count": 4,
   "metadata": {},
   "outputs": [
    {
     "data": {
      "text/latex": [
       "$10 \\; \\mathrm{{}^{\\circ}}$"
      ],
      "text/plain": [
       "<Quantity 10. deg>"
      ]
     },
     "execution_count": 4,
     "metadata": {},
     "output_type": "execute_result"
    }
   ],
   "source": [
    "angle"
   ]
  },
  {
   "cell_type": "code",
   "execution_count": 5,
   "metadata": {},
   "outputs": [
    {
     "data": {
      "text/latex": [
       "$600 \\; \\mathrm{{}^{\\prime}}$"
      ],
      "text/plain": [
       "<Quantity 600. arcmin>"
      ]
     },
     "execution_count": 5,
     "metadata": {},
     "output_type": "execute_result"
    }
   ],
   "source": [
    "angle_arcmin = angle.to(u.arcmin)\n",
    "angle_arcmin"
   ]
  },
  {
   "cell_type": "code",
   "execution_count": 6,
   "metadata": {},
   "outputs": [
    {
     "data": {
      "text/latex": [
       "$10.5 \\; \\mathrm{{}^{\\circ}}$"
      ],
      "text/plain": [
       "<Quantity 10.5 deg>"
      ]
     },
     "execution_count": 6,
     "metadata": {},
     "output_type": "execute_result"
    }
   ],
   "source": [
    "angle + 30 * u.arcmin"
   ]
  },
  {
   "cell_type": "markdown",
   "metadata": {},
   "source": [
    "### Exercise"
   ]
  },
  {
   "cell_type": "code",
   "execution_count": 20,
   "metadata": {},
   "outputs": [],
   "source": [
    "radius = 5 * u.arcmin\n",
    "radius = radius.to(u.degree)"
   ]
  },
  {
   "cell_type": "markdown",
   "metadata": {},
   "source": [
    "## Selecting a Region"
   ]
  },
  {
   "cell_type": "code",
   "execution_count": 25,
   "metadata": {},
   "outputs": [
    {
     "name": "stdout",
     "output_type": "stream",
     "text": [
      "SELECT \n",
      "TOP 10 \n",
      "source_id\n",
      "FROM gaiadr2.gaia_source\n",
      "WHERE 1=CONTAINS(\n",
      "  POINT(ra, dec),\n",
      "  CIRCLE(88.8, 7.4, 0.08333333333333333))\n",
      "\n"
     ]
    }
   ],
   "source": [
    "cone_query_base = \"\"\"SELECT \n",
    "TOP 10 \n",
    "source_id\n",
    "FROM gaiadr2.gaia_source\n",
    "WHERE 1=CONTAINS(\n",
    "  POINT(ra, dec),\n",
    "  CIRCLE(88.8, 7.4, {radius}))\n",
    "\"\"\"\n",
    "\n",
    "cone_query = cone_query_base.format(radius=radius.value)\n",
    "\n",
    "print(cone_query)"
   ]
  },
  {
   "cell_type": "code",
   "execution_count": 26,
   "metadata": {},
   "outputs": [],
   "source": [
    "cone_job = Gaia.launch_job(cone_query)\n",
    "cone_job"
   ]
  },
  {
   "cell_type": "code",
   "execution_count": 29,
   "metadata": {},
   "outputs": [
    {
     "data": {
      "text/html": [
       "<div><i>Table length=10</i>\n",
       "<table id=\"table5439846992\" class=\"table-striped table-bordered table-condensed\">\n",
       "<thead><tr><th>source_id</th></tr></thead>\n",
       "<thead><tr><th>int64</th></tr></thead>\n",
       "<tr><td>3322773965056065536</td></tr>\n",
       "<tr><td>3322773758899157120</td></tr>\n",
       "<tr><td>3322774068134271104</td></tr>\n",
       "<tr><td>3322773930696320512</td></tr>\n",
       "<tr><td>3322774377374425728</td></tr>\n",
       "<tr><td>3322773724537891456</td></tr>\n",
       "<tr><td>3322773724537891328</td></tr>\n",
       "<tr><td>3322773930696321792</td></tr>\n",
       "<tr><td>3322773724537890944</td></tr>\n",
       "<tr><td>3322773930696322176</td></tr>\n",
       "</table></div>"
      ],
      "text/plain": [
       "<Table length=10>\n",
       "     source_id     \n",
       "       int64       \n",
       "-------------------\n",
       "3322773965056065536\n",
       "3322773758899157120\n",
       "3322774068134271104\n",
       "3322773930696320512\n",
       "3322774377374425728\n",
       "3322773724537891456\n",
       "3322773724537891328\n",
       "3322773930696321792\n",
       "3322773724537890944\n",
       "3322773930696322176"
      ]
     },
     "metadata": {},
     "output_type": "display_data"
    }
   ],
   "source": [
    "cone_results = cone_job.get_results()\n",
    "display(cone_results)"
   ]
  },
  {
   "cell_type": "markdown",
   "metadata": {},
   "source": [
    "### Exercise"
   ]
  },
  {
   "cell_type": "code",
   "execution_count": 30,
   "metadata": {},
   "outputs": [
    {
     "name": "stdout",
     "output_type": "stream",
     "text": [
      "SELECT \n",
      "COUNT(source_id)\n",
      "FROM gaiadr2.gaia_source\n",
      "WHERE 1=CONTAINS(\n",
      "  POINT(ra, dec),\n",
      "  CIRCLE(88.8, 7.4, 0.08333333333333333))\n",
      "\n"
     ]
    }
   ],
   "source": [
    "cone_query_base = \"\"\"SELECT \n",
    "COUNT(source_id)\n",
    "FROM gaiadr2.gaia_source\n",
    "WHERE 1=CONTAINS(\n",
    "  POINT(ra, dec),\n",
    "  CIRCLE(88.8, 7.4, {radius}))\n",
    "\"\"\"\n",
    "\n",
    "cone_query = cone_query_base.format(radius=radius.value)\n",
    "\n",
    "print(cone_query)"
   ]
  },
  {
   "cell_type": "code",
   "execution_count": 31,
   "metadata": {},
   "outputs": [
    {
     "data": {
      "text/html": [
       "<div><i>Table length=1</i>\n",
       "<table id=\"table4648151440\" class=\"table-striped table-bordered table-condensed\">\n",
       "<thead><tr><th>COUNT</th></tr></thead>\n",
       "<thead><tr><th>int64</th></tr></thead>\n",
       "<tr><td>594</td></tr>\n",
       "</table></div>"
      ],
      "text/plain": [
       "<Table length=1>\n",
       "COUNT\n",
       "int64\n",
       "-----\n",
       "  594"
      ]
     },
     "metadata": {},
     "output_type": "display_data"
    }
   ],
   "source": [
    "cone_job = Gaia.launch_job(cone_query)\n",
    "cone_results = cone_job.get_results()\n",
    "display(cone_results)"
   ]
  },
  {
   "cell_type": "markdown",
   "metadata": {},
   "source": [
    "## Transforming Coordinates"
   ]
  },
  {
   "cell_type": "code",
   "execution_count": 39,
   "metadata": {},
   "outputs": [],
   "source": [
    "from astropy.coordinates import SkyCoord\n",
    "from gala.coordinates import GD1Koposov10"
   ]
  },
  {
   "cell_type": "code",
   "execution_count": 40,
   "metadata": {},
   "outputs": [
    {
     "data": {
      "text/plain": [
       "<SkyCoord (ICRS): (ra, dec) in deg\n",
       "    (88.8, 7.4)>"
      ]
     },
     "execution_count": 40,
     "metadata": {},
     "output_type": "execute_result"
    }
   ],
   "source": [
    "ra = 88.8 * u.degree\n",
    "dec = 7.4 * u.degree\n",
    "coord_icrs = SkyCoord(ra=ra, dec=dec, frame='icrs')\n",
    "\n",
    "coord_icrs"
   ]
  },
  {
   "cell_type": "code",
   "execution_count": 41,
   "metadata": {},
   "outputs": [
    {
     "data": {
      "text/plain": [
       "<SkyCoord (Galactic): (l, b) in deg\n",
       "    (199.79693102, -8.95591653)>"
      ]
     },
     "execution_count": 41,
     "metadata": {},
     "output_type": "execute_result"
    }
   ],
   "source": [
    "coord_galactic = coord_icrs.transform_to('galactic')\n",
    "coord_galactic"
   ]
  },
  {
   "cell_type": "code",
   "execution_count": 50,
   "metadata": {},
   "outputs": [
    {
     "data": {
      "text/plain": [
       "<SkyCoord (GD1Koposov10): (phi1, phi2) in deg\n",
       "    (-94.97222038, 34.5813813)>"
      ]
     },
     "metadata": {},
     "output_type": "display_data"
    }
   ],
   "source": [
    "gd1_frame = GD1Koposov10\n",
    "coord_gd1 = coord_icrs.transform_to(gd1_frame)\n",
    "display(coord_gd1)"
   ]
  },
  {
   "cell_type": "markdown",
   "metadata": {},
   "source": [
    "### Exercise"
   ]
  },
  {
   "cell_type": "code",
   "execution_count": 56,
   "metadata": {},
   "outputs": [
    {
     "data": {
      "text/plain": [
       "<SkyCoord (ICRS): (ra, dec) in deg\n",
       "    (200., 59.4504341)>"
      ]
     },
     "metadata": {},
     "output_type": "display_data"
    }
   ],
   "source": [
    "coord_gd_1 = SkyCoord(0 * u.degree, 0 * u.degree, frame=gd1_frame)\n",
    "coord_gd_1 =  coord_gd_1.transform_to('icrs')\n",
    "display(coord_gd_1)"
   ]
  },
  {
   "cell_type": "markdown",
   "metadata": {},
   "source": [
    "## Selecting a Rectangle"
   ]
  },
  {
   "cell_type": "markdown",
   "metadata": {},
   "source": [
    "define corners of rectangle"
   ]
  },
  {
   "cell_type": "code",
   "execution_count": 57,
   "metadata": {},
   "outputs": [],
   "source": [
    "phi1_min = -55 * u.degree \n",
    "phi1_max = -45 * u.degree\n",
    "phi2_min = -8 * u.degree\n",
    "phi2_max = 4 * u.degree"
   ]
  },
  {
   "cell_type": "code",
   "execution_count": 59,
   "metadata": {},
   "outputs": [],
   "source": [
    "def make_rectangle(x1, x2, y1, y2):\n",
    "    xs = [x1, x1, x2, x2, x1]\n",
    "    ys = [y1, y2, y2, y1, y1]\n",
    "    return xs, ys"
   ]
  },
  {
   "cell_type": "code",
   "execution_count": 60,
   "metadata": {},
   "outputs": [],
   "source": [
    "phi1_rect, phi2_rect = make_rectangle(phi1_min, phi1_max, phi2_min, phi2_max)"
   ]
  },
  {
   "cell_type": "markdown",
   "metadata": {},
   "source": [
    "convert from gd-1 frame to ICRS"
   ]
  },
  {
   "cell_type": "code",
   "execution_count": 61,
   "metadata": {},
   "outputs": [
    {
     "data": {
      "text/plain": [
       "<SkyCoord (GD1Koposov10): (phi1, phi2) in deg\n",
       "    [(-55., -8.), (-55.,  4.), (-45.,  4.), (-45., -8.), (-55., -8.)]>"
      ]
     },
     "metadata": {},
     "output_type": "display_data"
    }
   ],
   "source": [
    "corners = SkyCoord(phi1=phi1_rect, phi2=phi2_rect, frame=gd1_frame)\n",
    "display(corners)"
   ]
  },
  {
   "cell_type": "markdown",
   "metadata": {},
   "source": [
    "rectangle in gd-1 frame becomes polygon is ICRS coordinates"
   ]
  },
  {
   "cell_type": "code",
   "execution_count": 63,
   "metadata": {},
   "outputs": [
    {
     "data": {
      "text/plain": [
       "<SkyCoord (ICRS): (ra, dec) in deg\n",
       "    [(146.27533314, 19.26190982), (135.42163944, 25.87738723),\n",
       "     (141.60264825, 34.3048303 ), (152.81671045, 27.13611254),\n",
       "     (146.27533314, 19.26190982)]>"
      ]
     },
     "metadata": {},
     "output_type": "display_data"
    }
   ],
   "source": [
    "corners_icrs = corners.transform_to('icrs')\n",
    "display(corners_icrs)"
   ]
  },
  {
   "cell_type": "markdown",
   "metadata": {},
   "source": [
    "function to convert coordinates into format readable by query"
   ]
  },
  {
   "cell_type": "code",
   "execution_count": 73,
   "metadata": {},
   "outputs": [],
   "source": [
    "def skycoord_to_string(skycoord):\n",
    "    corners_list_str = skycoord.to_string()\n",
    "    corners_single_str = ' '.join(corners_list_str)\n",
    "    return corners_single_str.replace(' ', ', ')"
   ]
  },
  {
   "cell_type": "code",
   "execution_count": 74,
   "metadata": {},
   "outputs": [
    {
     "data": {
      "text/plain": [
       "'146.275, 19.2619, 135.422, 25.8774, 141.603, 34.3048, 152.817, 27.1361, 146.275, 19.2619'"
      ]
     },
     "execution_count": 74,
     "metadata": {},
     "output_type": "execute_result"
    }
   ],
   "source": [
    "sky_point_list = skycoord_to_string(corners_icrs)\n",
    "sky_point_list"
   ]
  },
  {
   "cell_type": "markdown",
   "metadata": {},
   "source": [
    "make query"
   ]
  },
  {
   "cell_type": "code",
   "execution_count": 75,
   "metadata": {},
   "outputs": [],
   "source": [
    "columns = 'source_id, ra, dec, pmra, pmdec, parallax'"
   ]
  },
  {
   "cell_type": "code",
   "execution_count": 85,
   "metadata": {},
   "outputs": [],
   "source": [
    "polygon_query_base = \"\"\"SELECT\n",
    "{columns}\n",
    "FROM gaiadr2.gaia_source\n",
    "WHERE parallax < 1\n",
    "  AND bp_rp BETWEEN -0.75 AND 2 \n",
    "  AND 1 = CONTAINS(POINT(ra, dec), \n",
    "                   POLYGON({sky_point_list}))\n",
    "\"\"\""
   ]
  },
  {
   "cell_type": "code",
   "execution_count": 86,
   "metadata": {},
   "outputs": [
    {
     "name": "stdout",
     "output_type": "stream",
     "text": [
      "SELECT\n",
      "source_id, ra, dec, pmra, pmdec, parallax\n",
      "FROM gaiadr2.gaia_source\n",
      "WHERE parallax < 1\n",
      "  AND bp_rp BETWEEN -0.75 AND 2 \n",
      "  AND 1 = CONTAINS(POINT(ra, dec), \n",
      "                   POLYGON(146.275, 19.2619, 135.422, 25.8774, 141.603, 34.3048, 152.817, 27.1361, 146.275, 19.2619))\n",
      "\n"
     ]
    }
   ],
   "source": [
    "polygon_query = polygon_query_base.format(columns=columns, sky_point_list=sky_point_list)\n",
    "print(polygon_query)"
   ]
  },
  {
   "cell_type": "code",
   "execution_count": 89,
   "metadata": {},
   "outputs": [
    {
     "name": "stdout",
     "output_type": "stream",
     "text": [
      "INFO: Query finished. [astroquery.utils.tap.core]\n",
      "<Table length=140339>\n",
      "   name    dtype    unit                              description                            \n",
      "--------- ------- -------- ------------------------------------------------------------------\n",
      "source_id   int64          Unique source identifier (unique within a particular Data Release)\n",
      "       ra float64      deg                                                    Right ascension\n",
      "      dec float64      deg                                                        Declination\n",
      "     pmra float64 mas / yr                         Proper motion in right ascension direction\n",
      "    pmdec float64 mas / yr                             Proper motion in declination direction\n",
      " parallax float64      mas                                                           Parallax\n",
      "Jobid: 1702867965761O\n",
      "Phase: COMPLETED\n",
      "Owner: None\n",
      "Output file: async_20231217215245.vot\n",
      "Results: None\n"
     ]
    }
   ],
   "source": [
    "polygon_job = Gaia.launch_job_async(polygon_query)\n",
    "print(polygon_job)"
   ]
  },
  {
   "cell_type": "code",
   "execution_count": 92,
   "metadata": {},
   "outputs": [
    {
     "name": "stdout",
     "output_type": "stream",
     "text": [
      "# of samples: 140339\n"
     ]
    }
   ],
   "source": [
    "polygon_results = polygon_job.get_results()\n",
    "print(f'# of samples: {len(polygon_results)}')"
   ]
  },
  {
   "cell_type": "code",
   "execution_count": 95,
   "metadata": {},
   "outputs": [],
   "source": [
    "with open('gd1_results.fits') as f:\n",
    "    polygon_results.write('gd1_results.fits', overwrite=True)"
   ]
  }
 ],
 "metadata": {
  "kernelspec": {
   "display_name": "base",
   "language": "python",
   "name": "python3"
  },
  "language_info": {
   "codemirror_mode": {
    "name": "ipython",
    "version": 3
   },
   "file_extension": ".py",
   "mimetype": "text/x-python",
   "name": "python",
   "nbconvert_exporter": "python",
   "pygments_lexer": "ipython3",
   "version": "3.11.4"
  }
 },
 "nbformat": 4,
 "nbformat_minor": 2
}
